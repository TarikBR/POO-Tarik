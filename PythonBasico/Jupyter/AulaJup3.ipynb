{
 "cells": [
  {
   "cell_type": "code",
   "execution_count": 1,
   "id": "471989c2",
   "metadata": {},
   "outputs": [],
   "source": [
    "class Cachorro():\n",
    "    def __init__(self, raca):\n",
    "        self.raca = raca\n",
    "        print(\"Método construtor para criar o objeto dessa classe\")"
   ]
  },
  {
   "cell_type": "code",
   "execution_count": 2,
   "id": "51eec912",
   "metadata": {},
   "outputs": [
    {
     "name": "stdout",
     "output_type": "stream",
     "text": [
      "Método construtor para criar o objeto dessa classe\n"
     ]
    }
   ],
   "source": [
    "rex = Cachorro(\"Labrador\")"
   ]
  },
  {
   "cell_type": "code",
   "execution_count": 8,
   "id": "48b689d1",
   "metadata": {},
   "outputs": [
    {
     "name": "stdout",
     "output_type": "stream",
     "text": [
      "Método construtor para criar o objeto dessa classe\n"
     ]
    }
   ],
   "source": [
    "golias = Cachorro(\"Pastor Alemão\")"
   ]
  },
  {
   "cell_type": "code",
   "execution_count": 4,
   "id": "ce20a448",
   "metadata": {},
   "outputs": [
    {
     "data": {
      "text/plain": [
       "'Labrador'"
      ]
     },
     "execution_count": 4,
     "metadata": {},
     "output_type": "execute_result"
    }
   ],
   "source": [
    "rex.raca"
   ]
  },
  {
   "cell_type": "code",
   "execution_count": 9,
   "id": "6bd4940a",
   "metadata": {},
   "outputs": [
    {
     "data": {
      "text/plain": [
       "'Pastor Alemão'"
      ]
     },
     "execution_count": 9,
     "metadata": {},
     "output_type": "execute_result"
    }
   ],
   "source": [
    "golias.raca"
   ]
  },
  {
   "cell_type": "code",
   "execution_count": null,
   "id": "ffa3acf0",
   "metadata": {},
   "outputs": [],
   "source": []
  }
 ],
 "metadata": {
  "kernelspec": {
   "display_name": "Python 3 (ipykernel)",
   "language": "python",
   "name": "python3"
  },
  "language_info": {
   "codemirror_mode": {
    "name": "ipython",
    "version": 3
   },
   "file_extension": ".py",
   "mimetype": "text/x-python",
   "name": "python",
   "nbconvert_exporter": "python",
   "pygments_lexer": "ipython3",
   "version": "3.9.12"
  }
 },
 "nbformat": 4,
 "nbformat_minor": 5
}
