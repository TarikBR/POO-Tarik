{
 "cells": [
  {
   "cell_type": "code",
   "execution_count": null,
   "id": "27b218b8",
   "metadata": {},
   "outputs": [],
   "source": [
    "class Pessoa():\n",
    "    def __init__(self):\n",
    "        print(\"Pessoa criada\")\n",
    "        \n",
    "    def comer(self):\n",
    "        print(\"Comendo\")\n",
    "\n",
    "    def dormir(self):\n",
    "        print(\"Dormindo\")\n",
    "        \n",
    "    def sacar(self, quantia):\n",
    "        print(f\"Saque de R${quantia} efetuado com sucesso.\")"
   ]
  },
  {
   "cell_type": "code",
   "execution_count": null,
   "id": "8eb2f6cb",
   "metadata": {},
   "outputs": [],
   "source": [
    "class Fisica(Pessoa):\n",
    "    def __init__(self, cpf, nome):\n",
    "        Pessoa.__init__(self)\n",
    "        self.cpf = cpf\n",
    "        self.nome = nome\n",
    "        print(\"Objeto Pessoa Física criado\")\n",
    "        \n",
    "    def identif(self):\n",
    "        print(f\"Pessoa Física de nome {self.nome} e CPF {self.cpf}.\")"
   ]
  },
  {
   "cell_type": "code",
   "execution_count": null,
   "id": "2bb7422c",
   "metadata": {},
   "outputs": [],
   "source": [
    "class Juridica(Pessoa):\n",
    "    def __init__(self, cnpj, nome):\n",
    "        Pessoa.__init__(self)\n",
    "        self.cnpj = cnpj\n",
    "        self.nome = nome\n",
    "        print(\"Objeto Pessoa Júridica criado\")\n",
    "        \n",
    "    def identif(self):\n",
    "        print(f\"Pessoa Jurídica de nome {self.nome} e CNPJ {self.cnpj}.\")"
   ]
  },
  {
   "cell_type": "code",
   "execution_count": null,
   "id": "2161c052",
   "metadata": {},
   "outputs": [],
   "source": [
    "pessoa1 = Fisica(12345678, \"João\")"
   ]
  },
  {
   "cell_type": "code",
   "execution_count": null,
   "id": "9db4a500",
   "metadata": {},
   "outputs": [],
   "source": [
    "pessoa1.identif()"
   ]
  },
  {
   "cell_type": "code",
   "execution_count": null,
   "id": "939b8cc1",
   "metadata": {},
   "outputs": [],
   "source": [
    "pessoa1.sacar(1000)"
   ]
  },
  {
   "cell_type": "code",
   "execution_count": null,
   "id": "8d56a4f5",
   "metadata": {},
   "outputs": [],
   "source": [
    "pessoa2 = Juridica(87654321, \"Paulo\")"
   ]
  },
  {
   "cell_type": "code",
   "execution_count": null,
   "id": "8854437e",
   "metadata": {},
   "outputs": [],
   "source": [
    "pessoa2.identif()"
   ]
  },
  {
   "cell_type": "code",
   "execution_count": null,
   "id": "613ff596",
   "metadata": {},
   "outputs": [],
   "source": [
    "pessoa2.sacar(200000)"
   ]
  },
  {
   "cell_type": "code",
   "execution_count": null,
   "id": "c83168ac",
   "metadata": {},
   "outputs": [],
   "source": []
  }
 ],
 "metadata": {
  "kernelspec": {
   "display_name": "Python 3 (ipykernel)",
   "language": "python",
   "name": "python3"
  },
  "language_info": {
   "codemirror_mode": {
    "name": "ipython",
    "version": 3
   },
   "file_extension": ".py",
   "mimetype": "text/x-python",
   "name": "python",
   "nbconvert_exporter": "python",
   "pygments_lexer": "ipython3",
   "version": "3.10.6"
  }
 },
 "nbformat": 4,
 "nbformat_minor": 5
}
