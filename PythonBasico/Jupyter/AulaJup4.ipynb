{
 "cells": [
  {
   "cell_type": "code",
   "execution_count": 1,
   "id": "ca68e8ff",
   "metadata": {},
   "outputs": [],
   "source": [
    "class Carro(object):\n",
    "    pass"
   ]
  },
  {
   "cell_type": "code",
   "execution_count": 6,
   "id": "ee9de177",
   "metadata": {},
   "outputs": [
    {
     "name": "stdout",
     "output_type": "stream",
     "text": [
      "<class '__main__.Carro'>\n"
     ]
    }
   ],
   "source": [
    "palio = Carro()\n",
    "print(type(palio))"
   ]
  },
  {
   "cell_type": "code",
   "execution_count": 7,
   "id": "d55bfa71",
   "metadata": {},
   "outputs": [],
   "source": [
    "class Estudantes:\n",
    "    def __init__(self, nome, idade, nota):\n",
    "        self.nome = nome\n",
    "        self.idade = idade\n",
    "        self.nota = nota"
   ]
  },
  {
   "cell_type": "code",
   "execution_count": 13,
   "id": "efc1c791",
   "metadata": {},
   "outputs": [],
   "source": [
    "estudante1 = Estudantes(\"Tarik\", 17, 100)\n",
    "estudante2 = Estudantes(\"Pelé\", 29, 99)\n",
    "estudante3 = Estudantes(\"Rick\", 53, 90)"
   ]
  },
  {
   "cell_type": "code",
   "execution_count": 14,
   "id": "f3ce8068",
   "metadata": {},
   "outputs": [
    {
     "name": "stdout",
     "output_type": "stream",
     "text": [
      "Tarik\n",
      "Pelé\n",
      "Rick\n"
     ]
    }
   ],
   "source": [
    "print(estudante1.nome)\n",
    "print(estudante2.nome)\n",
    "print(estudante3.nome)"
   ]
  },
  {
   "cell_type": "code",
   "execution_count": 15,
   "id": "47d53b2a",
   "metadata": {},
   "outputs": [
    {
     "name": "stdout",
     "output_type": "stream",
     "text": [
      "17\n",
      "29\n",
      "53\n"
     ]
    }
   ],
   "source": [
    "print(estudante1.idade)\n",
    "print(estudante2.idade)\n",
    "print(estudante3.idade)"
   ]
  },
  {
   "cell_type": "code",
   "execution_count": 16,
   "id": "95e00a33",
   "metadata": {},
   "outputs": [
    {
     "name": "stdout",
     "output_type": "stream",
     "text": [
      "100\n",
      "99\n",
      "90\n"
     ]
    }
   ],
   "source": [
    "print(estudante1.nota)\n",
    "print(estudante2.nota)\n",
    "print(estudante3.nota)"
   ]
  },
  {
   "cell_type": "code",
   "execution_count": 17,
   "id": "7591ca54",
   "metadata": {},
   "outputs": [],
   "source": [
    "class Funcionarios:\n",
    "    def __init__(self, nome, salario):\n",
    "        self.nome = nome\n",
    "        self.salario = salario\n",
    "        \n",
    "    def listFunc(self):\n",
    "        print(f\"O nome do funcionário é {self.nome} e o salário é R$ {str(self.salario)}\")"
   ]
  },
  {
   "cell_type": "code",
   "execution_count": 18,
   "id": "ba87076f",
   "metadata": {},
   "outputs": [],
   "source": [
    "func1 = Funcionarios(\"Obama\", 20000)"
   ]
  },
  {
   "cell_type": "code",
   "execution_count": 19,
   "id": "2a76889e",
   "metadata": {},
   "outputs": [
    {
     "name": "stdout",
     "output_type": "stream",
     "text": [
      "O nome do funcionário é Obama e o salário é R$ 20000\n"
     ]
    }
   ],
   "source": [
    "func1.listFunc()"
   ]
  },
  {
   "cell_type": "code",
   "execution_count": 20,
   "id": "007ecc91",
   "metadata": {},
   "outputs": [
    {
     "name": "stdout",
     "output_type": "stream",
     "text": [
      "**** Usando atributos ****\n"
     ]
    }
   ],
   "source": [
    "print(\"**** Usando atributos ****\")"
   ]
  },
  {
   "cell_type": "code",
   "execution_count": null,
   "id": "be3b69ca",
   "metadata": {},
   "outputs": [],
   "source": []
  }
 ],
 "metadata": {
  "kernelspec": {
   "display_name": "Python 3 (ipykernel)",
   "language": "python",
   "name": "python3"
  },
  "language_info": {
   "codemirror_mode": {
    "name": "ipython",
    "version": 3
   },
   "file_extension": ".py",
   "mimetype": "text/x-python",
   "name": "python",
   "nbconvert_exporter": "python",
   "pygments_lexer": "ipython3",
   "version": "3.9.12"
  }
 },
 "nbformat": 4,
 "nbformat_minor": 5
}
