{
 "cells": [
  {
   "cell_type": "code",
   "execution_count": null,
   "id": "ca68e8ff",
   "metadata": {},
   "outputs": [],
   "source": [
    "class Carro(object):\n",
    "    pass"
   ]
  },
  {
   "cell_type": "code",
   "execution_count": null,
   "id": "ee9de177",
   "metadata": {},
   "outputs": [],
   "source": [
    "palio = Carro()\n",
    "print(type(palio))"
   ]
  },
  {
   "cell_type": "code",
   "execution_count": null,
   "id": "d55bfa71",
   "metadata": {},
   "outputs": [],
   "source": [
    "class Estudantes:\n",
    "    def __init__(self, nome, idade, nota):\n",
    "        self.nome = nome\n",
    "        self.idade = idade\n",
    "        self.nota = nota"
   ]
  },
  {
   "cell_type": "code",
   "execution_count": null,
   "id": "efc1c791",
   "metadata": {},
   "outputs": [],
   "source": [
    "estudante1 = Estudantes(\"Tarik\", 17, 100)\n",
    "estudante2 = Estudantes(\"Pelé\", 29, 99)\n",
    "estudante3 = Estudantes(\"Rick\", 53, 90)"
   ]
  },
  {
   "cell_type": "code",
   "execution_count": null,
   "id": "f3ce8068",
   "metadata": {},
   "outputs": [],
   "source": [
    "print(estudante1.nome)\n",
    "print(estudante2.nome)\n",
    "print(estudante3.nome)"
   ]
  },
  {
   "cell_type": "code",
   "execution_count": null,
   "id": "47d53b2a",
   "metadata": {},
   "outputs": [],
   "source": [
    "print(estudante1.idade)\n",
    "print(estudante2.idade)\n",
    "print(estudante3.idade)"
   ]
  },
  {
   "cell_type": "code",
   "execution_count": null,
   "id": "95e00a33",
   "metadata": {},
   "outputs": [],
   "source": [
    "print(estudante1.nota)\n",
    "print(estudante2.nota)\n",
    "print(estudante3.nota)"
   ]
  },
  {
   "cell_type": "code",
   "execution_count": null,
   "id": "7591ca54",
   "metadata": {},
   "outputs": [],
   "source": [
    "class Funcionarios:\n",
    "    def __init__(self, nome, salario):\n",
    "        self.nome = nome\n",
    "        self.salario = salario\n",
    "        \n",
    "    def listFunc(self):\n",
    "        print(f\"O nome do funcionário é {self.nome} e o salário é R$ {str(self.salario)}\")"
   ]
  },
  {
   "cell_type": "code",
   "execution_count": null,
   "id": "ba87076f",
   "metadata": {},
   "outputs": [],
   "source": [
    "func1 = Funcionarios(\"Obama\", 20000)"
   ]
  },
  {
   "cell_type": "code",
   "execution_count": null,
   "id": "2a76889e",
   "metadata": {},
   "outputs": [],
   "source": [
    "func1.listFunc()"
   ]
  },
  {
   "cell_type": "code",
   "execution_count": null,
   "id": "007ecc91",
   "metadata": {},
   "outputs": [],
   "source": [
    "print(\"**** Usando atributos ****\")"
   ]
  },
  {
   "cell_type": "code",
   "execution_count": null,
   "id": "be3b69ca",
   "metadata": {},
   "outputs": [],
   "source": []
  },
  {
   "cell_type": "code",
   "execution_count": null,
   "id": "097f736c",
   "metadata": {},
   "outputs": [],
   "source": [
    "class Animal():\n",
    "    def __init__(self):\n",
    "        print(\"Animal criado\")\n",
    "        \n",
    "    def identif(self):\n",
    "        print(\"Animal\")\n",
    "        \n",
    "    def comer(self):\n",
    "        print(\"Comendo\")"
   ]
  },
  {
   "cell_type": "code",
   "execution_count": null,
   "id": "8bdfd702",
   "metadata": {},
   "outputs": [],
   "source": [
    "class Cachorro(Animal):\n",
    "    def __init__(self):\n",
    "        Animal.__init__(self)\n",
    "        print(\"Objeto cachorro criado\")\n",
    "        \n",
    "    def identif(self):\n",
    "        print(\"Cachorro\")\n",
    "        \n",
    "    def latir(self):\n",
    "        print(\"Au Au!\")"
   ]
  },
  {
   "cell_type": "code",
   "execution_count": null,
   "id": "aaf50e44",
   "metadata": {},
   "outputs": [],
   "source": [
    "rex = Cachorro()"
   ]
  },
  {
   "cell_type": "code",
   "execution_count": null,
   "id": "d3a1d618",
   "metadata": {},
   "outputs": [],
   "source": [
    "rex.identif()"
   ]
  },
  {
   "cell_type": "code",
   "execution_count": null,
   "id": "0549c4bf",
   "metadata": {},
   "outputs": [],
   "source": [
    "rex.comer()"
   ]
  },
  {
   "cell_type": "code",
   "execution_count": null,
   "id": "e7491341",
   "metadata": {},
   "outputs": [],
   "source": []
  }
 ],
 "metadata": {
  "kernelspec": {
   "display_name": "Python 3 (ipykernel)",
   "language": "python",
   "name": "python3"
  },
  "language_info": {
   "codemirror_mode": {
    "name": "ipython",
    "version": 3
   },
   "file_extension": ".py",
   "mimetype": "text/x-python",
   "name": "python",
   "nbconvert_exporter": "python",
   "pygments_lexer": "ipython3",
   "version": "3.10.6"
  }
 },
 "nbformat": 4,
 "nbformat_minor": 5
}
