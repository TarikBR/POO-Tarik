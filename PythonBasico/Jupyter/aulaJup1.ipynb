{
 "cells": [
  {
   "cell_type": "code",
   "execution_count": 4,
   "id": "b36cac6b",
   "metadata": {},
   "outputs": [],
   "source": [
    "class Livro:\n",
    "    def __init__(self):\n",
    "        self.titulo = \"O monge é o Executivo\"\n",
    "        self.isbn = 99998888\n",
    "        self.autor = \"Alguém ai\"\n",
    "        self.editora = \"Aquela la\"\n",
    "        self.numPag = 189\n",
    "        print(\"Construtor chamado para criar um objeto desta classe.\")\n",
    "        \n",
    "    def imprime(self):\n",
    "        print(f\"Foi criado o livro {self.titulo} e ISBN {self.isbn}.\")\n",
    "\n",
    "    def getAutor(self):\n",
    "        print(f\"O autor desse livro é {self.autor}.\")\n",
    "        \n",
    "    def getPag(self):\n",
    "        print(f\"O número de páginas é {self.numPag}.\")\n",
    "        \n",
    "    def mudarPag(self, num):\n",
    "        self.numPag = num\n",
    "        print(f\"Número de páginas alterado para {self.numPag}\")"
   ]
  },
  {
   "cell_type": "code",
   "execution_count": 5,
   "id": "83d85c38",
   "metadata": {},
   "outputs": [
    {
     "name": "stdout",
     "output_type": "stream",
     "text": [
      "Construtor chamado para criar um objeto desta classe.\n",
      "Foi criado o livro O monge é o Executivo e ISBN 99998888.\n",
      "O autor desse livro é Alguém ai.\n",
      "O número de páginas é 189.\n",
      "Número de páginas alterado para 159\n"
     ]
    }
   ],
   "source": [
    "livro1 = Livro()\n",
    "livro1.imprime()\n",
    "livro1.getAutor()\n",
    "livro1.getPag()\n",
    "livro1.mudarPag(159)"
   ]
  },
  {
   "cell_type": "code",
   "execution_count": 6,
   "id": "504e4448",
   "metadata": {},
   "outputs": [
    {
     "data": {
      "text/plain": [
       "__main__.Livro"
      ]
     },
     "execution_count": 6,
     "metadata": {},
     "output_type": "execute_result"
    }
   ],
   "source": [
    "type(livro1)"
   ]
  },
  {
   "cell_type": "code",
   "execution_count": 7,
   "id": "a504b138",
   "metadata": {},
   "outputs": [
    {
     "data": {
      "text/plain": [
       "'O monge é o Executivo'"
      ]
     },
     "execution_count": 7,
     "metadata": {},
     "output_type": "execute_result"
    }
   ],
   "source": [
    "livro1.titulo"
   ]
  },
  {
   "cell_type": "code",
   "execution_count": null,
   "id": "37d6b773",
   "metadata": {},
   "outputs": [],
   "source": []
  }
 ],
 "metadata": {
  "kernelspec": {
   "display_name": "Python 3 (ipykernel)",
   "language": "python",
   "name": "python3"
  },
  "language_info": {
   "codemirror_mode": {
    "name": "ipython",
    "version": 3
   },
   "file_extension": ".py",
   "mimetype": "text/x-python",
   "name": "python",
   "nbconvert_exporter": "python",
   "pygments_lexer": "ipython3",
   "version": "3.10.5"
  }
 },
 "nbformat": 4,
 "nbformat_minor": 5
}
