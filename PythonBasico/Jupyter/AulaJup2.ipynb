{
 "cells": [
  {
   "cell_type": "code",
   "execution_count": null,
   "id": "5be7c2ba",
   "metadata": {},
   "outputs": [],
   "source": [
    "class Livro:\n",
    "    def __init__(self, titulo, isbn):\n",
    "        self.titulo = titulo\n",
    "        self.isbn = isbn\n",
    "        print(\"Construtor chamado para criar um objeto dessa classe.\")\n",
    "        \n",
    "    def imprime(self):\n",
    "        print(f\"Este livro é {self.titulo} e ISBN {self.isbn}.\")"
   ]
  },
  {
   "cell_type": "code",
   "execution_count": null,
   "id": "109457f0",
   "metadata": {},
   "outputs": [],
   "source": [
    "livros = []\n",
    "\n",
    "for i in range(5):\n",
    "    titulo = input(\"Digite o título do livro: \")\n",
    "    isbn = int(input(\"Digite o isbn desse livro: \"))\n",
    "    livros.append(Livro(titulo, isbn))\n",
    "    \n",
    "for livro in livros:\n",
    "    print(livro.titulo)"
   ]
  },
  {
   "cell_type": "code",
   "execution_count": null,
   "id": "6dc5f149",
   "metadata": {},
   "outputs": [],
   "source": []
  }
 ],
 "metadata": {
  "kernelspec": {
   "display_name": "Python 3 (ipykernel)",
   "language": "python",
   "name": "python3"
  },
  "language_info": {
   "codemirror_mode": {
    "name": "ipython",
    "version": 3
   },
   "file_extension": ".py",
   "mimetype": "text/x-python",
   "name": "python",
   "nbconvert_exporter": "python",
   "pygments_lexer": "ipython3",
   "version": "3.10.6"
  }
 },
 "nbformat": 4,
 "nbformat_minor": 5
}
