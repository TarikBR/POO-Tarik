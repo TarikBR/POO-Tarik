{
 "cells": [
  {
   "cell_type": "code",
   "execution_count": null,
   "id": "5be7c2ba",
   "metadata": {},
   "outputs": [],
   "source": [
    "class Livro:\n",
    "    def __init__(self, titulo, isbn):\n",
    "        self.titulo = titulo\n",
    "        self.isbn = isbn\n",
    "        print(\"Construtor chamado para criar um objeto dessa classe.\")\n",
    "        \n",
    "    def imprime(self):\n",
    "        print(f\"Este livro é {self.titulo} e ISBN {self.isbn}.\")"
   ]
  },
  {
   "cell_type": "code",
   "execution_count": 3,
   "id": "109457f0",
   "metadata": {},
   "outputs": [
    {
     "name": "stdout",
     "output_type": "stream",
     "text": [
      "Digite o título do livro: livro1\n",
      "Digite o isbn desse livro: 123456789876543\n",
      "Construtor chamado para criar um objeto dessa classe.\n",
      "Digite o título do livro: livro2\n",
      "Digite o isbn desse livro: 8765434567890\n",
      "Construtor chamado para criar um objeto dessa classe.\n",
      "Digite o título do livro: livro3\n",
      "Digite o isbn desse livro: 9876567890\n",
      "Construtor chamado para criar um objeto dessa classe.\n",
      "Digite o título do livro: livro4\n",
      "Digite o isbn desse livro: 23456789876545678\n",
      "Construtor chamado para criar um objeto dessa classe.\n",
      "Digite o título do livro: livro5\n",
      "Digite o isbn desse livro: 656789876567891\n",
      "Construtor chamado para criar um objeto dessa classe.\n",
      "livro1\n",
      "livro2\n",
      "livro3\n",
      "livro4\n",
      "livro5\n"
     ]
    }
   ],
   "source": [
    "livros = []\n",
    "\n",
    "for i in range(5):\n",
    "    titulo = input(\"Digite o título do livro: \")\n",
    "    isbn = int(input(\"Digite o isbn desse livro: \"))\n",
    "    livros.append(Livro(titulo, isbn))\n",
    "    \n",
    "for livro in livros:\n",
    "    print(livro.titulo)"
   ]
  },
  {
   "cell_type": "code",
   "execution_count": null,
   "id": "6dc5f149",
   "metadata": {},
   "outputs": [],
   "source": []
  }
 ],
 "metadata": {
  "kernelspec": {
   "display_name": "Python 3 (ipykernel)",
   "language": "python",
   "name": "python3"
  },
  "language_info": {
   "codemirror_mode": {
    "name": "ipython",
    "version": 3
   },
   "file_extension": ".py",
   "mimetype": "text/x-python",
   "name": "python",
   "nbconvert_exporter": "python",
   "pygments_lexer": "ipython3",
   "version": "3.10.5"
  }
 },
 "nbformat": 4,
 "nbformat_minor": 5
}
